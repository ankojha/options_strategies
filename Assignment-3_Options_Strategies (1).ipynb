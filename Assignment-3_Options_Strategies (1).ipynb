{
 "cells": [
  {
   "cell_type": "markdown",
   "metadata": {},
   "source": [
    "# Bull Call Spread on Bank Nifty Data"
   ]
  },
  {
   "cell_type": "markdown",
   "metadata": {},
   "source": [
    "https://zerodha.com/varsity/chapter/bull-call-spread/"
   ]
  },
  {
   "cell_type": "markdown",
   "metadata": {},
   "source": [
    "In this assignment I have given the code for bull call spread on bank nifty data for 1 month managing the delta of 0.8 <br/>\n",
    "Also rather than buying at the money call option, we have bought bank nifty futures at the start of the month and we will hedge it by selling OTM call option."
   ]
  },
  {
   "cell_type": "markdown",
   "metadata": {},
   "source": [
    "## Importing important libraries"
   ]
  },
  {
   "cell_type": "code",
   "execution_count": 1,
   "metadata": {},
   "outputs": [],
   "source": [
    "#pip install py_vollib"
   ]
  },
  {
   "cell_type": "code",
   "execution_count": 2,
   "metadata": {},
   "outputs": [],
   "source": [
    "import pandas as pd\n",
    "import matplotlib.pyplot as plt\n",
    "import numpy as np\n",
    "\n",
    "from datetime import datetime\n",
    "\n",
    "import warnings\n",
    "warnings.filterwarnings(\"ignore\")\n",
    "\n",
    "# to fetch data \n",
    "import yfinance as yf\n",
    "\n",
    "import scipy.stats as ss\n",
    "\n",
    "import py_vollib.black_scholes.greeks.analytical as derivatives\n",
    "\n",
    "import math"
   ]
  },
  {
   "cell_type": "markdown",
   "metadata": {},
   "source": [
    "## Importing data"
   ]
  },
  {
   "cell_type": "code",
   "execution_count": 3,
   "metadata": {},
   "outputs": [
    {
     "data": {
      "text/html": [
       "<div>\n",
       "<style scoped>\n",
       "    .dataframe tbody tr th:only-of-type {\n",
       "        vertical-align: middle;\n",
       "    }\n",
       "\n",
       "    .dataframe tbody tr th {\n",
       "        vertical-align: top;\n",
       "    }\n",
       "\n",
       "    .dataframe thead th {\n",
       "        text-align: right;\n",
       "    }\n",
       "</style>\n",
       "<table border=\"1\" class=\"dataframe\">\n",
       "  <thead>\n",
       "    <tr style=\"text-align: right;\">\n",
       "      <th></th>\n",
       "      <th>Symbol</th>\n",
       "      <th>Date</th>\n",
       "      <th>Expiry</th>\n",
       "      <th>Open</th>\n",
       "      <th>High</th>\n",
       "      <th>Low</th>\n",
       "      <th>Close</th>\n",
       "      <th>LTP</th>\n",
       "      <th>Settle Price</th>\n",
       "      <th>No. of contracts</th>\n",
       "      <th>Turnover in Lacs</th>\n",
       "      <th>Open Int</th>\n",
       "      <th>Change in OI</th>\n",
       "      <th>Underlying Value</th>\n",
       "    </tr>\n",
       "  </thead>\n",
       "  <tbody>\n",
       "    <tr>\n",
       "      <th>0</th>\n",
       "      <td>BANKNIFTY</td>\n",
       "      <td>28-May-2021</td>\n",
       "      <td>24-Jun-2021</td>\n",
       "      <td>35499.00</td>\n",
       "      <td>35670.00</td>\n",
       "      <td>35150.00</td>\n",
       "      <td>35321.80</td>\n",
       "      <td>35394.05</td>\n",
       "      <td>35321.80</td>\n",
       "      <td>151658</td>\n",
       "      <td>1340811.02</td>\n",
       "      <td>1745000</td>\n",
       "      <td>27775</td>\n",
       "      <td>35141.45</td>\n",
       "    </tr>\n",
       "    <tr>\n",
       "      <th>1</th>\n",
       "      <td>BANKNIFTY</td>\n",
       "      <td>31-May-2021</td>\n",
       "      <td>24-Jun-2021</td>\n",
       "      <td>35280.00</td>\n",
       "      <td>35650.00</td>\n",
       "      <td>35063.15</td>\n",
       "      <td>35602.90</td>\n",
       "      <td>35578.25</td>\n",
       "      <td>35602.90</td>\n",
       "      <td>141916</td>\n",
       "      <td>1257088.18</td>\n",
       "      <td>1723450</td>\n",
       "      <td>-21550</td>\n",
       "      <td>-</td>\n",
       "    </tr>\n",
       "    <tr>\n",
       "      <th>2</th>\n",
       "      <td>BANKNIFTY</td>\n",
       "      <td>01-Jun-2021</td>\n",
       "      <td>24-Jun-2021</td>\n",
       "      <td>35677.95</td>\n",
       "      <td>35797.45</td>\n",
       "      <td>35313.95</td>\n",
       "      <td>35454.10</td>\n",
       "      <td>35470.00</td>\n",
       "      <td>35454.10</td>\n",
       "      <td>145631</td>\n",
       "      <td>1292727.92</td>\n",
       "      <td>1731125</td>\n",
       "      <td>7675</td>\n",
       "      <td>-</td>\n",
       "    </tr>\n",
       "    <tr>\n",
       "      <th>3</th>\n",
       "      <td>BANKNIFTY</td>\n",
       "      <td>02-Jun-2021</td>\n",
       "      <td>24-Jun-2021</td>\n",
       "      <td>35380.00</td>\n",
       "      <td>35560.00</td>\n",
       "      <td>35180.00</td>\n",
       "      <td>35524.25</td>\n",
       "      <td>35540.00</td>\n",
       "      <td>35524.25</td>\n",
       "      <td>113559</td>\n",
       "      <td>1003669.30</td>\n",
       "      <td>1700025</td>\n",
       "      <td>-31100</td>\n",
       "      <td>-</td>\n",
       "    </tr>\n",
       "    <tr>\n",
       "      <th>4</th>\n",
       "      <td>BANKNIFTY</td>\n",
       "      <td>03-Jun-2021</td>\n",
       "      <td>24-Jun-2021</td>\n",
       "      <td>35662.20</td>\n",
       "      <td>35890.00</td>\n",
       "      <td>35553.00</td>\n",
       "      <td>35781.95</td>\n",
       "      <td>35775.00</td>\n",
       "      <td>35781.95</td>\n",
       "      <td>121729</td>\n",
       "      <td>1086929.72</td>\n",
       "      <td>1690250</td>\n",
       "      <td>-9775</td>\n",
       "      <td>-</td>\n",
       "    </tr>\n",
       "  </tbody>\n",
       "</table>\n",
       "</div>"
      ],
      "text/plain": [
       "      Symbol         Date       Expiry      Open      High       Low  \\\n",
       "0  BANKNIFTY  28-May-2021  24-Jun-2021  35499.00  35670.00  35150.00   \n",
       "1  BANKNIFTY  31-May-2021  24-Jun-2021  35280.00  35650.00  35063.15   \n",
       "2  BANKNIFTY  01-Jun-2021  24-Jun-2021  35677.95  35797.45  35313.95   \n",
       "3  BANKNIFTY  02-Jun-2021  24-Jun-2021  35380.00  35560.00  35180.00   \n",
       "4  BANKNIFTY  03-Jun-2021  24-Jun-2021  35662.20  35890.00  35553.00   \n",
       "\n",
       "      Close       LTP  Settle Price  No. of contracts  Turnover in Lacs  \\\n",
       "0  35321.80  35394.05      35321.80            151658        1340811.02   \n",
       "1  35602.90  35578.25      35602.90            141916        1257088.18   \n",
       "2  35454.10  35470.00      35454.10            145631        1292727.92   \n",
       "3  35524.25  35540.00      35524.25            113559        1003669.30   \n",
       "4  35781.95  35775.00      35781.95            121729        1086929.72   \n",
       "\n",
       "   Open Int  Change in OI Underlying Value   \n",
       "0   1745000         27775          35141.45  \n",
       "1   1723450        -21550                 -  \n",
       "2   1731125          7675                 -  \n",
       "3   1700025        -31100                 -  \n",
       "4   1690250         -9775                 -  "
      ]
     },
     "execution_count": 3,
     "metadata": {},
     "output_type": "execute_result"
    }
   ],
   "source": [
    "df_fut = pd.read_csv('C:/Users/ANKIT/Downloads/FUTIDX_BANKNIFTY_28-May-2021_TO_24-Jun-2021.csv')  #Fill in with the address of where you downloaded the file. You can check in properties of the file\n",
    "df_fut.head()"
   ]
  },
  {
   "cell_type": "code",
   "execution_count": 4,
   "metadata": {},
   "outputs": [
    {
     "data": {
      "text/html": [
       "<div>\n",
       "<style scoped>\n",
       "    .dataframe tbody tr th:only-of-type {\n",
       "        vertical-align: middle;\n",
       "    }\n",
       "\n",
       "    .dataframe tbody tr th {\n",
       "        vertical-align: top;\n",
       "    }\n",
       "\n",
       "    .dataframe thead th {\n",
       "        text-align: right;\n",
       "    }\n",
       "</style>\n",
       "<table border=\"1\" class=\"dataframe\">\n",
       "  <thead>\n",
       "    <tr style=\"text-align: right;\">\n",
       "      <th></th>\n",
       "      <th>Symbol</th>\n",
       "      <th>Date</th>\n",
       "      <th>Expiry</th>\n",
       "      <th>Option Type</th>\n",
       "      <th>Strike Price</th>\n",
       "      <th>Open</th>\n",
       "      <th>High</th>\n",
       "      <th>Low</th>\n",
       "      <th>Close</th>\n",
       "      <th>LTP</th>\n",
       "      <th>Settle Price</th>\n",
       "      <th>No. of contracts</th>\n",
       "      <th>Turnover in Lacs</th>\n",
       "      <th>Premium Turnover in Lacs</th>\n",
       "      <th>Open Int</th>\n",
       "      <th>Change in OI</th>\n",
       "      <th>Underlying Value</th>\n",
       "    </tr>\n",
       "  </thead>\n",
       "  <tbody>\n",
       "    <tr>\n",
       "      <th>0</th>\n",
       "      <td>BANKNIFTY</td>\n",
       "      <td>28-May-2021</td>\n",
       "      <td>24-Jun-2021</td>\n",
       "      <td>CE</td>\n",
       "      <td>36000</td>\n",
       "      <td>849.95</td>\n",
       "      <td>924.50</td>\n",
       "      <td>665.60</td>\n",
       "      <td>730.80</td>\n",
       "      <td>743.30</td>\n",
       "      <td>730.80</td>\n",
       "      <td>26704</td>\n",
       "      <td>245464.26</td>\n",
       "      <td>5128.26</td>\n",
       "      <td>320700</td>\n",
       "      <td>116225</td>\n",
       "      <td>35141.45</td>\n",
       "    </tr>\n",
       "    <tr>\n",
       "      <th>1</th>\n",
       "      <td>BANKNIFTY</td>\n",
       "      <td>31-May-2021</td>\n",
       "      <td>24-Jun-2021</td>\n",
       "      <td>CE</td>\n",
       "      <td>36000</td>\n",
       "      <td>693.90</td>\n",
       "      <td>790.00</td>\n",
       "      <td>598.10</td>\n",
       "      <td>772.95</td>\n",
       "      <td>752.05</td>\n",
       "      <td>772.95</td>\n",
       "      <td>19525</td>\n",
       "      <td>179242.57</td>\n",
       "      <td>3517.57</td>\n",
       "      <td>331150</td>\n",
       "      <td>10450</td>\n",
       "      <td>-</td>\n",
       "    </tr>\n",
       "    <tr>\n",
       "      <th>2</th>\n",
       "      <td>BANKNIFTY</td>\n",
       "      <td>01-Jun-2021</td>\n",
       "      <td>24-Jun-2021</td>\n",
       "      <td>CE</td>\n",
       "      <td>36000</td>\n",
       "      <td>782.00</td>\n",
       "      <td>832.00</td>\n",
       "      <td>633.35</td>\n",
       "      <td>660.65</td>\n",
       "      <td>661.00</td>\n",
       "      <td>660.65</td>\n",
       "      <td>31536</td>\n",
       "      <td>289503.11</td>\n",
       "      <td>5679.11</td>\n",
       "      <td>313700</td>\n",
       "      <td>-17450</td>\n",
       "      <td>-</td>\n",
       "    </tr>\n",
       "    <tr>\n",
       "      <th>3</th>\n",
       "      <td>BANKNIFTY</td>\n",
       "      <td>02-Jun-2021</td>\n",
       "      <td>24-Jun-2021</td>\n",
       "      <td>CE</td>\n",
       "      <td>36000</td>\n",
       "      <td>575.50</td>\n",
       "      <td>625.95</td>\n",
       "      <td>533.85</td>\n",
       "      <td>612.70</td>\n",
       "      <td>606.85</td>\n",
       "      <td>612.70</td>\n",
       "      <td>19060</td>\n",
       "      <td>174293.32</td>\n",
       "      <td>2753.32</td>\n",
       "      <td>324475</td>\n",
       "      <td>10775</td>\n",
       "      <td>-</td>\n",
       "    </tr>\n",
       "    <tr>\n",
       "      <th>4</th>\n",
       "      <td>BANKNIFTY</td>\n",
       "      <td>03-Jun-2021</td>\n",
       "      <td>24-Jun-2021</td>\n",
       "      <td>CE</td>\n",
       "      <td>36000</td>\n",
       "      <td>659.05</td>\n",
       "      <td>753.90</td>\n",
       "      <td>596.50</td>\n",
       "      <td>698.40</td>\n",
       "      <td>696.00</td>\n",
       "      <td>698.40</td>\n",
       "      <td>24549</td>\n",
       "      <td>225062.12</td>\n",
       "      <td>4121.12</td>\n",
       "      <td>328425</td>\n",
       "      <td>3950</td>\n",
       "      <td>-</td>\n",
       "    </tr>\n",
       "  </tbody>\n",
       "</table>\n",
       "</div>"
      ],
      "text/plain": [
       "      Symbol         Date       Expiry Option Type  Strike Price    Open  \\\n",
       "0  BANKNIFTY  28-May-2021  24-Jun-2021          CE         36000  849.95   \n",
       "1  BANKNIFTY  31-May-2021  24-Jun-2021          CE         36000  693.90   \n",
       "2  BANKNIFTY  01-Jun-2021  24-Jun-2021          CE         36000  782.00   \n",
       "3  BANKNIFTY  02-Jun-2021  24-Jun-2021          CE         36000  575.50   \n",
       "4  BANKNIFTY  03-Jun-2021  24-Jun-2021          CE         36000  659.05   \n",
       "\n",
       "     High     Low   Close     LTP  Settle Price  No. of contracts  \\\n",
       "0  924.50  665.60  730.80  743.30        730.80             26704   \n",
       "1  790.00  598.10  772.95  752.05        772.95             19525   \n",
       "2  832.00  633.35  660.65  661.00        660.65             31536   \n",
       "3  625.95  533.85  612.70  606.85        612.70             19060   \n",
       "4  753.90  596.50  698.40  696.00        698.40             24549   \n",
       "\n",
       "   Turnover in Lacs  Premium Turnover in Lacs  Open Int  Change in OI  \\\n",
       "0         245464.26                   5128.26    320700        116225   \n",
       "1         179242.57                   3517.57    331150         10450   \n",
       "2         289503.11                   5679.11    313700        -17450   \n",
       "3         174293.32                   2753.32    324475         10775   \n",
       "4         225062.12                   4121.12    328425          3950   \n",
       "\n",
       "  Underlying Value  \n",
       "0         35141.45  \n",
       "1                -  \n",
       "2                -  \n",
       "3                -  \n",
       "4                -  "
      ]
     },
     "execution_count": 4,
     "metadata": {},
     "output_type": "execute_result"
    }
   ],
   "source": [
    "df_call_36000 = pd.read_csv('C:/Users/ANKIT/Downloads/OPTIDX_BANKNIFTY_CE_28-May-2021_TO_24-Jun-2021.csv')\n",
    "df_call_36000.head()"
   ]
  },
  {
   "cell_type": "code",
   "execution_count": 5,
   "metadata": {},
   "outputs": [
    {
     "name": "stdout",
     "output_type": "stream",
     "text": [
      "[*********************100%***********************]  1 of 1 completed\n"
     ]
    },
    {
     "data": {
      "text/html": [
       "<div>\n",
       "<style scoped>\n",
       "    .dataframe tbody tr th:only-of-type {\n",
       "        vertical-align: middle;\n",
       "    }\n",
       "\n",
       "    .dataframe tbody tr th {\n",
       "        vertical-align: top;\n",
       "    }\n",
       "\n",
       "    .dataframe thead th {\n",
       "        text-align: right;\n",
       "    }\n",
       "</style>\n",
       "<table border=\"1\" class=\"dataframe\">\n",
       "  <thead>\n",
       "    <tr style=\"text-align: right;\">\n",
       "      <th></th>\n",
       "      <th>Open</th>\n",
       "      <th>High</th>\n",
       "      <th>Low</th>\n",
       "      <th>Close</th>\n",
       "      <th>Adj Close</th>\n",
       "      <th>Volume</th>\n",
       "    </tr>\n",
       "    <tr>\n",
       "      <th>Date</th>\n",
       "      <th></th>\n",
       "      <th></th>\n",
       "      <th></th>\n",
       "      <th></th>\n",
       "      <th></th>\n",
       "      <th></th>\n",
       "    </tr>\n",
       "  </thead>\n",
       "  <tbody>\n",
       "    <tr>\n",
       "      <th>2021-06-18</th>\n",
       "      <td>34735.148438</td>\n",
       "      <td>34787.398438</td>\n",
       "      <td>33908.949219</td>\n",
       "      <td>34558.000000</td>\n",
       "      <td>34558.000000</td>\n",
       "      <td>0</td>\n",
       "    </tr>\n",
       "    <tr>\n",
       "      <th>2021-06-21</th>\n",
       "      <td>34109.449219</td>\n",
       "      <td>34927.648438</td>\n",
       "      <td>33937.500000</td>\n",
       "      <td>34871.300781</td>\n",
       "      <td>34871.300781</td>\n",
       "      <td>0</td>\n",
       "    </tr>\n",
       "    <tr>\n",
       "      <th>2021-06-22</th>\n",
       "      <td>35084.898438</td>\n",
       "      <td>35281.898438</td>\n",
       "      <td>34664.351562</td>\n",
       "      <td>34745.000000</td>\n",
       "      <td>34745.000000</td>\n",
       "      <td>0</td>\n",
       "    </tr>\n",
       "    <tr>\n",
       "      <th>2021-06-23</th>\n",
       "      <td>34911.851562</td>\n",
       "      <td>34937.648438</td>\n",
       "      <td>34525.449219</td>\n",
       "      <td>34574.000000</td>\n",
       "      <td>34574.000000</td>\n",
       "      <td>0</td>\n",
       "    </tr>\n",
       "    <tr>\n",
       "      <th>2021-06-24</th>\n",
       "      <td>34687.699219</td>\n",
       "      <td>34935.300781</td>\n",
       "      <td>34592.351562</td>\n",
       "      <td>34827.000000</td>\n",
       "      <td>34827.000000</td>\n",
       "      <td>0</td>\n",
       "    </tr>\n",
       "  </tbody>\n",
       "</table>\n",
       "</div>"
      ],
      "text/plain": [
       "                    Open          High           Low         Close  \\\n",
       "Date                                                                 \n",
       "2021-06-18  34735.148438  34787.398438  33908.949219  34558.000000   \n",
       "2021-06-21  34109.449219  34927.648438  33937.500000  34871.300781   \n",
       "2021-06-22  35084.898438  35281.898438  34664.351562  34745.000000   \n",
       "2021-06-23  34911.851562  34937.648438  34525.449219  34574.000000   \n",
       "2021-06-24  34687.699219  34935.300781  34592.351562  34827.000000   \n",
       "\n",
       "               Adj Close  Volume  \n",
       "Date                              \n",
       "2021-06-18  34558.000000       0  \n",
       "2021-06-21  34871.300781       0  \n",
       "2021-06-22  34745.000000       0  \n",
       "2021-06-23  34574.000000       0  \n",
       "2021-06-24  34827.000000       0  "
      ]
     },
     "execution_count": 5,
     "metadata": {},
     "output_type": "execute_result"
    }
   ],
   "source": [
    "symbol = '^NSEBANK'\n",
    "end = '2021-06-25'\n",
    "start = '2021-05-28'\n",
    "\n",
    "\n",
    "# Read data \n",
    "df = yf.download(symbol,start,end)\n",
    "\n",
    "df.tail()"
   ]
  },
  {
   "cell_type": "markdown",
   "metadata": {},
   "source": [
    "### Calculation of annual volatility and time remainig for expiry used in calculation of delta"
   ]
  },
  {
   "cell_type": "code",
   "execution_count": 6,
   "metadata": {},
   "outputs": [
    {
     "name": "stdout",
     "output_type": "stream",
     "text": [
      "[*********************100%***********************]  1 of 1 completed\n"
     ]
    },
    {
     "data": {
      "text/html": [
       "<div>\n",
       "<style scoped>\n",
       "    .dataframe tbody tr th:only-of-type {\n",
       "        vertical-align: middle;\n",
       "    }\n",
       "\n",
       "    .dataframe tbody tr th {\n",
       "        vertical-align: top;\n",
       "    }\n",
       "\n",
       "    .dataframe thead th {\n",
       "        text-align: right;\n",
       "    }\n",
       "</style>\n",
       "<table border=\"1\" class=\"dataframe\">\n",
       "  <thead>\n",
       "    <tr style=\"text-align: right;\">\n",
       "      <th></th>\n",
       "      <th>Open</th>\n",
       "      <th>High</th>\n",
       "      <th>Low</th>\n",
       "      <th>Close</th>\n",
       "      <th>Adj Close</th>\n",
       "      <th>Volume</th>\n",
       "    </tr>\n",
       "    <tr>\n",
       "      <th>Date</th>\n",
       "      <th></th>\n",
       "      <th></th>\n",
       "      <th></th>\n",
       "      <th></th>\n",
       "      <th></th>\n",
       "      <th></th>\n",
       "    </tr>\n",
       "  </thead>\n",
       "  <tbody>\n",
       "    <tr>\n",
       "      <th>2020-05-28</th>\n",
       "      <td>18924.449219</td>\n",
       "      <td>19455.550781</td>\n",
       "      <td>18818.949219</td>\n",
       "      <td>19169.800781</td>\n",
       "      <td>19169.800781</td>\n",
       "      <td>561100</td>\n",
       "    </tr>\n",
       "    <tr>\n",
       "      <th>2020-05-29</th>\n",
       "      <td>18962.000000</td>\n",
       "      <td>19358.050781</td>\n",
       "      <td>18729.900391</td>\n",
       "      <td>19297.250000</td>\n",
       "      <td>19297.250000</td>\n",
       "      <td>581700</td>\n",
       "    </tr>\n",
       "    <tr>\n",
       "      <th>2020-06-01</th>\n",
       "      <td>19728.900391</td>\n",
       "      <td>20225.349609</td>\n",
       "      <td>19632.900391</td>\n",
       "      <td>19959.900391</td>\n",
       "      <td>19959.900391</td>\n",
       "      <td>558100</td>\n",
       "    </tr>\n",
       "    <tr>\n",
       "      <th>2020-06-02</th>\n",
       "      <td>20120.599609</td>\n",
       "      <td>20615.750000</td>\n",
       "      <td>19852.550781</td>\n",
       "      <td>20530.199219</td>\n",
       "      <td>20530.199219</td>\n",
       "      <td>448300</td>\n",
       "    </tr>\n",
       "    <tr>\n",
       "      <th>2020-06-03</th>\n",
       "      <td>20966.599609</td>\n",
       "      <td>21619.550781</td>\n",
       "      <td>20822.000000</td>\n",
       "      <td>20940.699219</td>\n",
       "      <td>20940.699219</td>\n",
       "      <td>616900</td>\n",
       "    </tr>\n",
       "  </tbody>\n",
       "</table>\n",
       "</div>"
      ],
      "text/plain": [
       "                    Open          High           Low         Close  \\\n",
       "Date                                                                 \n",
       "2020-05-28  18924.449219  19455.550781  18818.949219  19169.800781   \n",
       "2020-05-29  18962.000000  19358.050781  18729.900391  19297.250000   \n",
       "2020-06-01  19728.900391  20225.349609  19632.900391  19959.900391   \n",
       "2020-06-02  20120.599609  20615.750000  19852.550781  20530.199219   \n",
       "2020-06-03  20966.599609  21619.550781  20822.000000  20940.699219   \n",
       "\n",
       "               Adj Close  Volume  \n",
       "Date                              \n",
       "2020-05-28  19169.800781  561100  \n",
       "2020-05-29  19297.250000  581700  \n",
       "2020-06-01  19959.900391  558100  \n",
       "2020-06-02  20530.199219  448300  \n",
       "2020-06-03  20940.699219  616900  "
      ]
     },
     "execution_count": 6,
     "metadata": {},
     "output_type": "execute_result"
    }
   ],
   "source": [
    "symbol = '^NSEBANK'\n",
    "end = '2021-05-28'\n",
    "start = '2020-05-28'\n",
    "\n",
    "\n",
    "# Read data \n",
    "df_year = yf.download(symbol,start,end)\n",
    "\n",
    "df_year.head()"
   ]
  },
  {
   "cell_type": "code",
   "execution_count": 7,
   "metadata": {},
   "outputs": [],
   "source": [
    "ret = df_year['Close'].pct_change()[1:]"
   ]
  },
  {
   "cell_type": "code",
   "execution_count": 8,
   "metadata": {},
   "outputs": [
    {
     "data": {
      "text/plain": [
       "Date\n",
       "2020-05-29    0.006648\n",
       "2020-06-01    0.034339\n",
       "2020-06-02    0.028572\n",
       "2020-06-03    0.019995\n",
       "2020-06-04   -0.026277\n",
       "Name: Close, dtype: float64"
      ]
     },
     "execution_count": 8,
     "metadata": {},
     "output_type": "execute_result"
    }
   ],
   "source": [
    "ret.head()"
   ]
  },
  {
   "cell_type": "code",
   "execution_count": 9,
   "metadata": {},
   "outputs": [
    {
     "data": {
      "text/plain": [
       "0.018580334637206992"
      ]
     },
     "execution_count": 9,
     "metadata": {},
     "output_type": "execute_result"
    }
   ],
   "source": [
    "daily_vol = ret.std()\n",
    "daily_vol"
   ]
  },
  {
   "cell_type": "code",
   "execution_count": 10,
   "metadata": {},
   "outputs": [
    {
     "data": {
      "text/plain": [
       "0.2949536683584554"
      ]
     },
     "execution_count": 10,
     "metadata": {},
     "output_type": "execute_result"
    }
   ],
   "source": [
    "vol = daily_vol*252**0.5\n",
    "vol"
   ]
  },
  {
   "cell_type": "code",
   "execution_count": 11,
   "metadata": {},
   "outputs": [],
   "source": [
    "expiry = datetime.strptime('2021-06-24', '%Y-%m-%d')   #Expiry date"
   ]
  },
  {
   "cell_type": "code",
   "execution_count": 12,
   "metadata": {},
   "outputs": [
    {
     "data": {
      "text/plain": [
       "TimedeltaIndex(['27 days', '24 days', '23 days', '22 days', '21 days',\n",
       "                '20 days', '17 days', '16 days', '15 days', '14 days',\n",
       "                '13 days', '10 days',  '9 days',  '8 days',  '7 days',\n",
       "                 '6 days',  '3 days',  '2 days',  '1 days',  '0 days'],\n",
       "               dtype='timedelta64[ns]', name='Date', freq=None)"
      ]
     },
     "execution_count": 12,
     "metadata": {},
     "output_type": "execute_result"
    }
   ],
   "source": [
    "time = expiry-df.index    #Time left in days\n",
    "time"
   ]
  },
  {
   "cell_type": "code",
   "execution_count": 13,
   "metadata": {},
   "outputs": [
    {
     "data": {
      "text/plain": [
       "Int64Index([27, 24, 23, 22, 21, 20, 17, 16, 15, 14, 13, 10, 9, 8, 7, 6, 3, 2,\n",
       "            1, 0],\n",
       "           dtype='int64', name='Date')"
      ]
     },
     "execution_count": 13,
     "metadata": {},
     "output_type": "execute_result"
    }
   ],
   "source": [
    "time = pd.to_timedelta(time, errors='coerce').days  #Time left in days converted to int data type\n",
    "time"
   ]
  },
  {
   "cell_type": "markdown",
   "metadata": {},
   "source": [
    "### Initial buying and selling"
   ]
  },
  {
   "cell_type": "code",
   "execution_count": 14,
   "metadata": {},
   "outputs": [],
   "source": [
    "no_of_lots_fut = 10           #number of future lots we bought at start of the month\n",
    "buy_avg_future = df_fut['Open'][0]       #buying average of that lot\n",
    "lot_size = 25     #lot size of bank nifty\n",
    "delta = 1*no_of_lots_fut*lot_size    #taking delta of future is 1 as if banknifty changes by 1 the future would also change by 1\n",
    "delta_to_maintain = 0.8*no_of_lots_fut*lot_size    #we will maintain 0.8 delta per future contract"
   ]
  },
  {
   "cell_type": "code",
   "execution_count": 15,
   "metadata": {},
   "outputs": [
    {
     "data": {
      "text/plain": [
       "11.175180281228103"
      ]
     },
     "execution_count": 15,
     "metadata": {},
     "output_type": "execute_result"
    }
   ],
   "source": [
    "flag = 'c'   #for call or put option\n",
    "S = df['Open'][0]    #price of the underlying\n",
    "K = 36000   #strike price\n",
    "t = time[0]/365   #time left to expiry in years\n",
    "sigma = vol   #volatility\n",
    "r = 0.06  #risk free rate\n",
    "delta_per_lot_call = derivatives.delta(flag, S, K, t, r, sigma)*lot_size   #to calculate delta per lot\n",
    "delta_per_lot_call"
   ]
  },
  {
   "cell_type": "code",
   "execution_count": 16,
   "metadata": {},
   "outputs": [
    {
     "data": {
      "text/plain": [
       "200.0"
      ]
     },
     "execution_count": 16,
     "metadata": {},
     "output_type": "execute_result"
    }
   ],
   "source": [
    "delta_to_maintain"
   ]
  },
  {
   "cell_type": "code",
   "execution_count": 17,
   "metadata": {},
   "outputs": [
    {
     "data": {
      "text/plain": [
       "250"
      ]
     },
     "execution_count": 17,
     "metadata": {},
     "output_type": "execute_result"
    }
   ],
   "source": [
    "delta"
   ]
  },
  {
   "cell_type": "code",
   "execution_count": 18,
   "metadata": {},
   "outputs": [],
   "source": [
    "number_of_lots_call = math.ceil((delta-delta_to_maintain)/delta_per_lot_call)  #number of call lots we have to sell to keep delta of 200"
   ]
  },
  {
   "cell_type": "code",
   "execution_count": 19,
   "metadata": {},
   "outputs": [
    {
     "data": {
      "text/plain": [
       "5"
      ]
     },
     "execution_count": 19,
     "metadata": {},
     "output_type": "execute_result"
    }
   ],
   "source": [
    "number_of_lots_call"
   ]
  },
  {
   "cell_type": "code",
   "execution_count": 20,
   "metadata": {},
   "outputs": [
    {
     "data": {
      "text/plain": [
       "849.95"
      ]
     },
     "execution_count": 20,
     "metadata": {},
     "output_type": "execute_result"
    }
   ],
   "source": [
    "sell_avg_call = df_call_36000['Open'][0]  #selling avg of call \n",
    "sell_avg_call"
   ]
  },
  {
   "cell_type": "code",
   "execution_count": 21,
   "metadata": {},
   "outputs": [],
   "source": [
    "# Before moving on to managing delta, answer a few questions:\n",
    "\n",
    "#Q1 : What do you think would happen to the delta of call option as banknifty goes up? (increase/decrease) \n",
    "#Ans : increase\n",
    "\n",
    "#Q2 : So to manage the delta what would be done to call options already sold? (Buy some call options / Sell more) \n",
    "#Hint : Remember selling call options would give negative delta\n",
    "#Ans : Sell more"
   ]
  },
  {
   "cell_type": "markdown",
   "metadata": {},
   "source": [
    "### Managing delta"
   ]
  },
  {
   "cell_type": "code",
   "execution_count": 22,
   "metadata": {},
   "outputs": [],
   "source": [
    "number_of_lots_call = math.ceil((delta-delta_to_maintain)/delta_per_lot_call)  #number of call lots we have to sell to keep delta of 200\n",
    "sell_avg_call = df_call_36000['Open'][0]  #selling avg of call \n",
    "profit= []\n",
    "\n",
    "for i in range(len(df)-1):\n",
    "    delta_per_lot_call = derivatives.delta(flag, df['Close'][i], 36000, time[i]/365, sigma, r)*lot_size  #Calculation of delta per lot at the next closing day\n",
    "    current_number_of_lots_call = math.ceil((delta-delta_to_maintain)/delta_per_lot_call)   #number of lots required to sell\n",
    "    no_of_lots_added = current_number_of_lots_call - number_of_lots_call   #number of lots added/subtracted for selling\n",
    "    sell_avg_call = (sell_avg_call*number_of_lots_call + no_of_lots_added*df_call_36000['Close'][i])/current_number_of_lots_call  #new selling avg of call\n",
    "    number_of_lots_call = current_number_of_lots_call    #updating number of lots of calls sold\n",
    "    profit.append((df_fut['Close'][i]-buy_avg_future)*no_of_lots_fut*lot_size + (sell_avg_call-df_call_36000['Close'][i])*lot_size*number_of_lots_call)  #unrealised profit \n",
    "    #print(df_fut['Close'][i], buy_avg_future, sell_avg_call, df_call_36000['Close'][i])"
   ]
  },
  {
   "cell_type": "code",
   "execution_count": 23,
   "metadata": {},
   "outputs": [
    {
     "data": {
      "text/plain": [
       "2165495039789944117876971656575975424"
      ]
     },
     "execution_count": 23,
     "metadata": {},
     "output_type": "execute_result"
    }
   ],
   "source": [
    "#As you can see that the number of lots of call sold is way too many as the delta of out of money call option approches 0 in the end\n",
    "#Thus this strategy would practically be possible by changing the strike price of the call option as it goes deep out of money\n",
    "#But that would require much higher level programming thats why we have given this simple assignment jst theoretically make\n",
    "#you realise the power of hedging\n",
    "number_of_lots_call"
   ]
  },
  {
   "cell_type": "code",
   "execution_count": 24,
   "metadata": {},
   "outputs": [
    {
     "data": {
      "text/plain": [
       "8.1"
      ]
     },
     "execution_count": 24,
     "metadata": {},
     "output_type": "execute_result"
    }
   ],
   "source": [
    "sell_avg_call"
   ]
  },
  {
   "cell_type": "code",
   "execution_count": 25,
   "metadata": {},
   "outputs": [
    {
     "data": {
      "text/plain": [
       "2.3089408694674297e-35"
      ]
     },
     "execution_count": 25,
     "metadata": {},
     "output_type": "execute_result"
    }
   ],
   "source": [
    "delta_per_lot_call"
   ]
  },
  {
   "cell_type": "code",
   "execution_count": 26,
   "metadata": {},
   "outputs": [
    {
     "data": {
      "text/plain": [
       "[-29406.24999999926,\n",
       " 35600.000000000364,\n",
       " 9629.999999999643,\n",
       " 31962.5,\n",
       " 87817.49999999927,\n",
       " 30648.75000000002,\n",
       " 60888.74999999927,\n",
       " -4848.749999999258,\n",
       " -51640.000000000364,\n",
       " -63847.50000000035,\n",
       " -64397.50000000034,\n",
       " -42940.00000000039,\n",
       " -78631.24999999956,\n",
       " -94838.7500000002,\n",
       " 388763.7499999985,\n",
       " 51099332.499999985,\n",
       " 274236640.0000021,\n",
       " 17428097778.619137,\n",
       " -221774.99999999965]"
      ]
     },
     "execution_count": 26,
     "metadata": {},
     "output_type": "execute_result"
    }
   ],
   "source": [
    "profit"
   ]
  },
  {
   "cell_type": "code",
   "execution_count": 27,
   "metadata": {},
   "outputs": [
    {
     "data": {
      "text/plain": [
       "<matplotlib.legend.Legend at 0x156c47f2648>"
      ]
     },
     "execution_count": 27,
     "metadata": {},
     "output_type": "execute_result"
    },
    {
     "data": {
      "image/png": "[encoded data removed]",
      "text/plain": [
       "<Figure size 432x288 with 1 Axes>"
      ]
     },
     "metadata": {
      "needs_background": "light"
     },
     "output_type": "display_data"
    }
   ],
   "source": [
    "plt.plot(profit[:14], label = 'strategy_profit')\n",
    "plt.plot((df_fut['Close']-df_fut['Open'][0])[:14]*250, label = 'futures_profit')\n",
    "plt.legend()"
   ]
  },
  {
   "cell_type": "markdown",
   "metadata": {},
   "source": [
    "As you can see from the above graph of first first 14 days of the strategy that though the futures did fall very down but<br/>\n",
    "We were able to hedge this with selling of call option and our strategy did give better returns overall<br/>\n",
    "<br/>\n",
    "We didnt plot the whole graph as in the end many lots of call options were sold which is practically not possible<br/>"
   ]
  },
  {
   "cell_type": "markdown",
   "metadata": {},
   "source": [
    "### Short strangle with delta hedging"
   ]
  },
  {
   "cell_type": "markdown",
   "metadata": {},
   "source": [
    "https://zerodha.com/varsity/chapter/the-long-short-strangle/"
   ]
  },
  {
   "cell_type": "markdown",
   "metadata": {},
   "source": [
    "Coming to the reality we can't predict market accurately and it may lead to loss.<br/>\n",
    "So in practice market neutral strategies are very helpful and can give decent returns with very less risk<br/>\n",
    "One such strategy is to sell put and call options such that the overall delta of our positions remains 0."
   ]
  },
  {
   "cell_type": "markdown",
   "metadata": {},
   "source": [
    "Try to code the above strategy and manage delta just like given in the previous strategy.<br/>\n",
    "You will only use 35000 puts and calls for this strategy.<br/>\n",
    "Initially sell 10 lots of puts and correspondingly sell x lots of calls such that the delta becomes 0.<br/>\n",
    "Then manage the delta accordingly by just selling or buying call options and not changing the number of put options sold.<br/>\n",
    "Also plot the profit graph on whole data and see the results!<br/>\n",
    "\n",
    "Hint: Do remember that unlike futures which has delta of 1 delta of 35000 puts options would change everytime."
   ]
  },
  {
   "cell_type": "markdown",
   "metadata": {},
   "source": [
    "### Importing data"
   ]
  },
  {
   "cell_type": "code",
   "execution_count": 28,
   "metadata": {},
   "outputs": [
    {
     "data": {
      "text/html": [
       "<div>\n",
       "<style scoped>\n",
       "    .dataframe tbody tr th:only-of-type {\n",
       "        vertical-align: middle;\n",
       "    }\n",
       "\n",
       "    .dataframe tbody tr th {\n",
       "        vertical-align: top;\n",
       "    }\n",
       "\n",
       "    .dataframe thead th {\n",
       "        text-align: right;\n",
       "    }\n",
       "</style>\n",
       "<table border=\"1\" class=\"dataframe\">\n",
       "  <thead>\n",
       "    <tr style=\"text-align: right;\">\n",
       "      <th></th>\n",
       "      <th>Symbol</th>\n",
       "      <th>Date</th>\n",
       "      <th>Expiry</th>\n",
       "      <th>Option Type</th>\n",
       "      <th>Strike Price</th>\n",
       "      <th>Open</th>\n",
       "      <th>High</th>\n",
       "      <th>Low</th>\n",
       "      <th>Close</th>\n",
       "      <th>LTP</th>\n",
       "      <th>Settle Price</th>\n",
       "      <th>No. of contracts</th>\n",
       "      <th>Turnover in Lacs</th>\n",
       "      <th>Premium Turnover in Lacs</th>\n",
       "      <th>Open Int</th>\n",
       "      <th>Change in OI</th>\n",
       "      <th>Underlying Value</th>\n",
       "    </tr>\n",
       "  </thead>\n",
       "  <tbody>\n",
       "    <tr>\n",
       "      <th>0</th>\n",
       "      <td>BANKNIFTY</td>\n",
       "      <td>28-May-2021</td>\n",
       "      <td>24-Jun-2021</td>\n",
       "      <td>CE</td>\n",
       "      <td>35000</td>\n",
       "      <td>1394.65</td>\n",
       "      <td>1459.5</td>\n",
       "      <td>1132.0</td>\n",
       "      <td>1213.55</td>\n",
       "      <td>1224.50</td>\n",
       "      <td>1213.55</td>\n",
       "      <td>18138</td>\n",
       "      <td>164479.84</td>\n",
       "      <td>5772.34</td>\n",
       "      <td>283425</td>\n",
       "      <td>39000</td>\n",
       "      <td>35141.45</td>\n",
       "    </tr>\n",
       "    <tr>\n",
       "      <th>1</th>\n",
       "      <td>BANKNIFTY</td>\n",
       "      <td>31-May-2021</td>\n",
       "      <td>24-Jun-2021</td>\n",
       "      <td>CE</td>\n",
       "      <td>35000</td>\n",
       "      <td>1197.95</td>\n",
       "      <td>1339.0</td>\n",
       "      <td>1021.6</td>\n",
       "      <td>1308.30</td>\n",
       "      <td>1281.95</td>\n",
       "      <td>1308.30</td>\n",
       "      <td>14456</td>\n",
       "      <td>130864.56</td>\n",
       "      <td>4374.56</td>\n",
       "      <td>245275</td>\n",
       "      <td>-38150</td>\n",
       "      <td>-</td>\n",
       "    </tr>\n",
       "    <tr>\n",
       "      <th>2</th>\n",
       "      <td>BANKNIFTY</td>\n",
       "      <td>01-Jun-2021</td>\n",
       "      <td>24-Jun-2021</td>\n",
       "      <td>CE</td>\n",
       "      <td>35000</td>\n",
       "      <td>1291.90</td>\n",
       "      <td>1398.0</td>\n",
       "      <td>1112.3</td>\n",
       "      <td>1155.05</td>\n",
       "      <td>1163.00</td>\n",
       "      <td>1155.05</td>\n",
       "      <td>15231</td>\n",
       "      <td>137967.95</td>\n",
       "      <td>4696.70</td>\n",
       "      <td>345025</td>\n",
       "      <td>99750</td>\n",
       "      <td>-</td>\n",
       "    </tr>\n",
       "    <tr>\n",
       "      <th>3</th>\n",
       "      <td>BANKNIFTY</td>\n",
       "      <td>02-Jun-2021</td>\n",
       "      <td>24-Jun-2021</td>\n",
       "      <td>CE</td>\n",
       "      <td>35000</td>\n",
       "      <td>1099.30</td>\n",
       "      <td>1145.7</td>\n",
       "      <td>982.5</td>\n",
       "      <td>1128.05</td>\n",
       "      <td>1122.00</td>\n",
       "      <td>1128.05</td>\n",
       "      <td>12258</td>\n",
       "      <td>110507.46</td>\n",
       "      <td>3249.96</td>\n",
       "      <td>342375</td>\n",
       "      <td>-2650</td>\n",
       "      <td>-</td>\n",
       "    </tr>\n",
       "    <tr>\n",
       "      <th>4</th>\n",
       "      <td>BANKNIFTY</td>\n",
       "      <td>03-Jun-2021</td>\n",
       "      <td>24-Jun-2021</td>\n",
       "      <td>CE</td>\n",
       "      <td>35000</td>\n",
       "      <td>1163.20</td>\n",
       "      <td>1342.5</td>\n",
       "      <td>1111.7</td>\n",
       "      <td>1265.45</td>\n",
       "      <td>1270.00</td>\n",
       "      <td>1265.45</td>\n",
       "      <td>7511</td>\n",
       "      <td>68025.76</td>\n",
       "      <td>2304.51</td>\n",
       "      <td>307825</td>\n",
       "      <td>-34550</td>\n",
       "      <td>-</td>\n",
       "    </tr>\n",
       "  </tbody>\n",
       "</table>\n",
       "</div>"
      ],
      "text/plain": [
       "      Symbol         Date       Expiry Option Type  Strike Price     Open  \\\n",
       "0  BANKNIFTY  28-May-2021  24-Jun-2021          CE         35000  1394.65   \n",
       "1  BANKNIFTY  31-May-2021  24-Jun-2021          CE         35000  1197.95   \n",
       "2  BANKNIFTY  01-Jun-2021  24-Jun-2021          CE         35000  1291.90   \n",
       "3  BANKNIFTY  02-Jun-2021  24-Jun-2021          CE         35000  1099.30   \n",
       "4  BANKNIFTY  03-Jun-2021  24-Jun-2021          CE         35000  1163.20   \n",
       "\n",
       "     High     Low    Close      LTP  Settle Price  No. of contracts  \\\n",
       "0  1459.5  1132.0  1213.55  1224.50       1213.55             18138   \n",
       "1  1339.0  1021.6  1308.30  1281.95       1308.30             14456   \n",
       "2  1398.0  1112.3  1155.05  1163.00       1155.05             15231   \n",
       "3  1145.7   982.5  1128.05  1122.00       1128.05             12258   \n",
       "4  1342.5  1111.7  1265.45  1270.00       1265.45              7511   \n",
       "\n",
       "   Turnover in Lacs  Premium Turnover in Lacs  Open Int  Change in OI  \\\n",
       "0         164479.84                   5772.34    283425         39000   \n",
       "1         130864.56                   4374.56    245275        -38150   \n",
       "2         137967.95                   4696.70    345025         99750   \n",
       "3         110507.46                   3249.96    342375         -2650   \n",
       "4          68025.76                   2304.51    307825        -34550   \n",
       "\n",
       "  Underlying Value  \n",
       "0         35141.45  \n",
       "1                -  \n",
       "2                -  \n",
       "3                -  \n",
       "4                -  "
      ]
     },
     "execution_count": 28,
     "metadata": {},
     "output_type": "execute_result"
    }
   ],
   "source": [
    "df_call_35000 = pd.read_csv('C:/Users/ANKIT/Downloads/OPTIDX_BANKNIFTY_CE_28-May-2021_TO_24-Jun-2021_1.csv')\n",
    "df_call_35000.head()"
   ]
  },
  {
   "cell_type": "code",
   "execution_count": 29,
   "metadata": {},
   "outputs": [
    {
     "data": {
      "text/html": [
       "<div>\n",
       "<style scoped>\n",
       "    .dataframe tbody tr th:only-of-type {\n",
       "        vertical-align: middle;\n",
       "    }\n",
       "\n",
       "    .dataframe tbody tr th {\n",
       "        vertical-align: top;\n",
       "    }\n",
       "\n",
       "    .dataframe thead th {\n",
       "        text-align: right;\n",
       "    }\n",
       "</style>\n",
       "<table border=\"1\" class=\"dataframe\">\n",
       "  <thead>\n",
       "    <tr style=\"text-align: right;\">\n",
       "      <th></th>\n",
       "      <th>Symbol</th>\n",
       "      <th>Date</th>\n",
       "      <th>Expiry</th>\n",
       "      <th>Option Type</th>\n",
       "      <th>Strike Price</th>\n",
       "      <th>Open</th>\n",
       "      <th>High</th>\n",
       "      <th>Low</th>\n",
       "      <th>Close</th>\n",
       "      <th>LTP</th>\n",
       "      <th>Settle Price</th>\n",
       "      <th>No. of contracts</th>\n",
       "      <th>Turnover in Lacs</th>\n",
       "      <th>Premium Turnover in Lacs</th>\n",
       "      <th>Open Int</th>\n",
       "      <th>Change in OI</th>\n",
       "      <th>Underlying Value</th>\n",
       "    </tr>\n",
       "  </thead>\n",
       "  <tbody>\n",
       "    <tr>\n",
       "      <th>15</th>\n",
       "      <td>BANKNIFTY</td>\n",
       "      <td>18-Jun-2021</td>\n",
       "      <td>24-Jun-2021</td>\n",
       "      <td>PE</td>\n",
       "      <td>35000</td>\n",
       "      <td>490.00</td>\n",
       "      <td>1209.65</td>\n",
       "      <td>466.50</td>\n",
       "      <td>591.40</td>\n",
       "      <td>486.15</td>\n",
       "      <td>591.40</td>\n",
       "      <td>134605</td>\n",
       "      <td>1201978.49</td>\n",
       "      <td>24184.74</td>\n",
       "      <td>388175</td>\n",
       "      <td>-42950</td>\n",
       "      <td>34558</td>\n",
       "    </tr>\n",
       "    <tr>\n",
       "      <th>16</th>\n",
       "      <td>BANKNIFTY</td>\n",
       "      <td>21-Jun-2021</td>\n",
       "      <td>24-Jun-2021</td>\n",
       "      <td>PE</td>\n",
       "      <td>35000</td>\n",
       "      <td>716.25</td>\n",
       "      <td>1099.95</td>\n",
       "      <td>311.70</td>\n",
       "      <td>338.90</td>\n",
       "      <td>329.00</td>\n",
       "      <td>338.90</td>\n",
       "      <td>134434</td>\n",
       "      <td>1192854.25</td>\n",
       "      <td>16556.75</td>\n",
       "      <td>439150</td>\n",
       "      <td>50975</td>\n",
       "      <td>-</td>\n",
       "    </tr>\n",
       "    <tr>\n",
       "      <th>17</th>\n",
       "      <td>BANKNIFTY</td>\n",
       "      <td>22-Jun-2021</td>\n",
       "      <td>24-Jun-2021</td>\n",
       "      <td>PE</td>\n",
       "      <td>35000</td>\n",
       "      <td>187.75</td>\n",
       "      <td>409.75</td>\n",
       "      <td>134.10</td>\n",
       "      <td>363.05</td>\n",
       "      <td>380.00</td>\n",
       "      <td>363.05</td>\n",
       "      <td>1988272</td>\n",
       "      <td>17510021.78</td>\n",
       "      <td>112641.78</td>\n",
       "      <td>1066050</td>\n",
       "      <td>626900</td>\n",
       "      <td>-</td>\n",
       "    </tr>\n",
       "    <tr>\n",
       "      <th>18</th>\n",
       "      <td>BANKNIFTY</td>\n",
       "      <td>23-Jun-2021</td>\n",
       "      <td>24-Jun-2021</td>\n",
       "      <td>PE</td>\n",
       "      <td>35000</td>\n",
       "      <td>319.00</td>\n",
       "      <td>490.00</td>\n",
       "      <td>225.35</td>\n",
       "      <td>441.75</td>\n",
       "      <td>439.10</td>\n",
       "      <td>441.75</td>\n",
       "      <td>994679</td>\n",
       "      <td>8788636.49</td>\n",
       "      <td>85195.24</td>\n",
       "      <td>1352200</td>\n",
       "      <td>286150</td>\n",
       "      <td>34574</td>\n",
       "    </tr>\n",
       "    <tr>\n",
       "      <th>19</th>\n",
       "      <td>BANKNIFTY</td>\n",
       "      <td>24-Jun-2021</td>\n",
       "      <td>24-Jun-2021</td>\n",
       "      <td>PE</td>\n",
       "      <td>35000</td>\n",
       "      <td>440.00</td>\n",
       "      <td>466.95</td>\n",
       "      <td>85.00</td>\n",
       "      <td>178.25</td>\n",
       "      <td>172.60</td>\n",
       "      <td>34827.00</td>\n",
       "      <td>1353795</td>\n",
       "      <td>11915053.17</td>\n",
       "      <td>69346.92</td>\n",
       "      <td>242850</td>\n",
       "      <td>-1109350</td>\n",
       "      <td>34827</td>\n",
       "    </tr>\n",
       "  </tbody>\n",
       "</table>\n",
       "</div>"
      ],
      "text/plain": [
       "       Symbol         Date       Expiry Option Type  Strike Price    Open  \\\n",
       "15  BANKNIFTY  18-Jun-2021  24-Jun-2021          PE         35000  490.00   \n",
       "16  BANKNIFTY  21-Jun-2021  24-Jun-2021          PE         35000  716.25   \n",
       "17  BANKNIFTY  22-Jun-2021  24-Jun-2021          PE         35000  187.75   \n",
       "18  BANKNIFTY  23-Jun-2021  24-Jun-2021          PE         35000  319.00   \n",
       "19  BANKNIFTY  24-Jun-2021  24-Jun-2021          PE         35000  440.00   \n",
       "\n",
       "       High     Low   Close     LTP  Settle Price  No. of contracts  \\\n",
       "15  1209.65  466.50  591.40  486.15        591.40            134605   \n",
       "16  1099.95  311.70  338.90  329.00        338.90            134434   \n",
       "17   409.75  134.10  363.05  380.00        363.05           1988272   \n",
       "18   490.00  225.35  441.75  439.10        441.75            994679   \n",
       "19   466.95   85.00  178.25  172.60      34827.00           1353795   \n",
       "\n",
       "    Turnover in Lacs  Premium Turnover in Lacs  Open Int  Change in OI  \\\n",
       "15        1201978.49                  24184.74    388175        -42950   \n",
       "16        1192854.25                  16556.75    439150         50975   \n",
       "17       17510021.78                 112641.78   1066050        626900   \n",
       "18        8788636.49                  85195.24   1352200        286150   \n",
       "19       11915053.17                  69346.92    242850      -1109350   \n",
       "\n",
       "   Underlying Value  \n",
       "15            34558  \n",
       "16                -  \n",
       "17                -  \n",
       "18            34574  \n",
       "19            34827  "
      ]
     },
     "execution_count": 29,
     "metadata": {},
     "output_type": "execute_result"
    }
   ],
   "source": [
    "df_put_35000 = pd.read_csv('C:/Users/ANKIT/Downloads/OPTIDX_BANKNIFTY_PE_28-May-2021_TO_24-Jun-2021.csv')\n",
    "df_put_35000.tail()"
   ]
  },
  {
   "cell_type": "markdown",
   "metadata": {},
   "source": [
    "### Initialising everything required to calculate delta"
   ]
  },
  {
   "cell_type": "code",
   "execution_count": 30,
   "metadata": {},
   "outputs": [],
   "source": [
    "#Assume we are starting the strategy at the opening time of 28th May\n",
    "S = df['Close'][0]    #price of the underlying\n",
    "K = 35000   #strike price\n",
    "t = time[0]/365   #time left to expiry in years\n",
    "sigma = vol   #volatility\n",
    "r = 0.06  #risk free rate\n",
    "delta_to_maintain = 0"
   ]
  },
  {
   "cell_type": "markdown",
   "metadata": {},
   "source": [
    "### Initial selling"
   ]
  },
  {
   "cell_type": "code",
   "execution_count": 31,
   "metadata": {},
   "outputs": [],
   "source": [
    "no_of_lots_put = 10      #number of lots of put sold\n",
    "sell_avg_put = df_put_35000['Open'][0]   #selling average of seeling those lots\n",
    "lot_size = 25\n",
    "delta = derivatives.delta('p', S, K, t, r, sigma)*no_of_lots_put*lot_size  #total delta after selling 250 quantities of put"
   ]
  },
  {
   "cell_type": "code",
   "execution_count": 32,
   "metadata": {},
   "outputs": [
    {
     "data": {
      "text/plain": [
       "-110.51841430345758"
      ]
     },
     "execution_count": 32,
     "metadata": {},
     "output_type": "execute_result"
    }
   ],
   "source": [
    "delta"
   ]
  },
  {
   "cell_type": "code",
   "execution_count": 33,
   "metadata": {},
   "outputs": [
    {
     "data": {
      "text/plain": [
       "14.656538354277082"
      ]
     },
     "execution_count": 33,
     "metadata": {},
     "output_type": "execute_result"
    }
   ],
   "source": [
    "delta_per_lot_call = derivatives.delta('c', df['Open'][0], K, t, r, sigma)*lot_size  #delta per lot of call,i.e, delta of 25 quantities\n",
    "delta_per_lot_call"
   ]
  },
  {
   "cell_type": "code",
   "execution_count": 34,
   "metadata": {},
   "outputs": [
    {
     "data": {
      "text/plain": [
       "8"
      ]
     },
     "execution_count": 34,
     "metadata": {},
     "output_type": "execute_result"
    }
   ],
   "source": [
    "number_of_lots_call =  math.ceil((delta_to_maintain-delta)/delta_per_lot_call)   #number of lots of call to be sold\n",
    "number_of_lots_call"
   ]
  },
  {
   "cell_type": "code",
   "execution_count": 35,
   "metadata": {},
   "outputs": [
    {
     "data": {
      "text/plain": [
       "1394.65"
      ]
     },
     "execution_count": 35,
     "metadata": {},
     "output_type": "execute_result"
    }
   ],
   "source": [
    "sell_avg_call = df_call_35000['Open'][0]   #selling average of that call options sold\n",
    "sell_avg_call"
   ]
  },
  {
   "cell_type": "code",
   "execution_count": 36,
   "metadata": {},
   "outputs": [
    {
     "data": {
      "text/plain": [
       "'\\nBonus Question: Assume that you have set a limit to selling of your quantities and you have reached that limit of yours.\\nNow the market went up. You have to manage your delta such that the final quantity sold by you remains the same.\\nWhat would you do?\\nHint : Think about changing the strikes of options\\n\\nAns : sell at higher strike price\\n'"
      ]
     },
     "execution_count": 36,
     "metadata": {},
     "output_type": "execute_result"
    }
   ],
   "source": [
    "#Before delta management ans few questions:\n",
    "\n",
    "#Q1. If market moves up, what would happen to delta of put options? (increase/decrease)\n",
    "#Ans : decrease\n",
    "\n",
    "#Q2. If market moves up, what would happen to delta of call options? (increase/decrease)\n",
    "#Ans : increase\n",
    "\n",
    "#Q3. What would be your ideal strategy in terms of buying/selling call options if market moves up to maintain a delta of 0.\n",
    "#Ans : long strangle\n",
    "\n",
    "'''\n",
    "Bonus Question: Assume that you have set a limit to selling of your quantities and you have reached that limit of yours.\n",
    "Now the market went up. You have to manage your delta such that the final quantity sold by you remains the same.\n",
    "What would you do?\n",
    "Hint : Think about changing the strikes of options\n",
    "\n",
    "Ans : sell at higher strike price\n",
    "'''"
   ]
  },
  {
   "cell_type": "markdown",
   "metadata": {},
   "source": [
    "### Delta Management"
   ]
  },
  {
   "cell_type": "code",
   "execution_count": 37,
   "metadata": {},
   "outputs": [],
   "source": [
    "number_of_lots_call = math.ceil((delta-delta_to_maintain)/delta_per_lot_call)  #number of call lots we have to sell to keep delta of 200\n",
    "sell_avg_call = df_call_35000['Open'][0]\n",
    "sum1 = 0\n",
    "profit = []\n",
    "\n",
    "for i in range(len(df)-1):\n",
    "    delta = derivatives.delta('p', df['Close'][i], 35000, time[i]/365, r, sigma)*no_of_lots_put*lot_size\n",
    "    delta_per_lot_call = derivatives.delta('c', df['Close'][i], 35000, time[i]/365, r, sigma)*lot_size  #Calculation of delta per lot at the next closing day\n",
    "    current_number_of_lots_call = math.ceil((-delta+delta_to_maintain)/delta_per_lot_call)   #number of lots required to sell\n",
    "    no_of_lots_added = current_number_of_lots_call - number_of_lots_call   #number of lots added/subtracted for selling\n",
    "    sell_avg_call = (sell_avg_call*number_of_lots_call + no_of_lots_added*df_call_35000['Close'][i])/current_number_of_lots_call  #new selling avg of call\n",
    "    number_of_lots_call = current_number_of_lots_call    #updating number of lots of calls sold\n",
    "    profit.append(194682.50000000017+(-df_put_35000['Close'][i]+sell_avg_put)*no_of_lots_put*lot_size + (sell_avg_call-df_call_35000['Close'][i])*lot_size*number_of_lots_call)\n",
    "#Write the code for delta management"
   ]
  },
  {
   "cell_type": "code",
   "execution_count": 38,
   "metadata": {},
   "outputs": [],
   "source": [
    "profit.append(194682.50000000017+(-df_put_35000['Close'][19]+sell_avg_put)*no_of_lots_put*lot_size + (sell_avg_call-df_call_35000['Close'][19])*lot_size*number_of_lots_call)  #profit at the expiry as at expiry delta is not done and therefore cannot be calculated in the above loop"
   ]
  },
  {
   "cell_type": "code",
   "execution_count": 39,
   "metadata": {},
   "outputs": [
    {
     "data": {
      "text/plain": [
       "[171202.50000000015,\n",
       " 202440.00000000015,\n",
       " 230546.25000000015,\n",
       " 260871.25000000015,\n",
       " 266001.2500000001,\n",
       " 282106.2500000002,\n",
       " 300708.7500000002,\n",
       " 330953.7500000002,\n",
       " 339150.0000000001,\n",
       " 341805.0000000001,\n",
       " 366710.0000000001,\n",
       " 394226.2500000001,\n",
       " 401351.2500000001,\n",
       " 407921.2500000001,\n",
       " 429846.2500000001,\n",
       " 459340.0000000001,\n",
       " 496725.0000000001,\n",
       " 518332.5000000001,\n",
       " 543218.7500000001,\n",
       " 649593.7500000001]"
      ]
     },
     "execution_count": 39,
     "metadata": {},
     "output_type": "execute_result"
    }
   ],
   "source": [
    "profit "
   ]
  },
  {
   "cell_type": "code",
   "execution_count": 40,
   "metadata": {},
   "outputs": [
    {
     "data": {
      "text/plain": [
       "<matplotlib.legend.Legend at 0x156c4892908>"
      ]
     },
     "execution_count": 40,
     "metadata": {},
     "output_type": "execute_result"
    },
    {
     "data": {
      "image/png": "[encoded data removed]",
      "text/plain": [
       "<Figure size 432x288 with 1 Axes>"
      ]
     },
     "metadata": {
      "needs_background": "light"
     },
     "output_type": "display_data"
    }
   ],
   "source": [
    "#Plot the profit graph\n",
    "plt.plot(profit[:], label = 'strategy_profit')\n",
    "plt.legend()"
   ]
  },
  {
   "cell_type": "markdown",
   "metadata": {},
   "source": [
    "See the results you get by selling calls and puts and just managing delta at end of day"
   ]
  }
 ],
 "metadata": {
  "kernelspec": {
   "display_name": "Python 3",
   "language": "python",
   "name": "python3"
  },
  "language_info": {
   "codemirror_mode": {
    "name": "ipython",
    "version": 3
   },
   "file_extension": ".py",
   "mimetype": "text/x-python",
   "name": "python",
   "nbconvert_exporter": "python",
   "pygments_lexer": "ipython3",
   "version": "3.7.6"
  }
 },
 "nbformat": 4,
 "nbformat_minor": 2
}
